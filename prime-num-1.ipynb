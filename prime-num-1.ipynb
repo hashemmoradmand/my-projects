{
 "cells": [
  {
   "cell_type": "code",
   "execution_count": 1,
   "metadata": {
    "colab": {
     "base_uri": "https://localhost:8080/"
    },
    "id": "m7w2o-ILHQxB",
    "outputId": "0dad3fa4-3511-4abf-bfb3-c145e23a0bd4"
   },
   "outputs": [
    {
     "name": "stdout",
     "output_type": "stream",
     "text": [
      "Enter 10 values: 20 50 60 40 32 21 210 25 345 625 348\n"
     ]
    },
    {
     "data": {
      "text/plain": [
       "[(210, 5)]"
      ]
     },
     "execution_count": 1,
     "metadata": {},
     "output_type": "execute_result"
    }
   ],
   "source": [
    "a=[ int(x) for x in input(\"Enter 10 values: \").split() ]\n",
    "c=[]\n",
    "aval=[]\n",
    "b=max(a)\n",
    "for num in range(1,b+1):\n",
    "      for i in range(2,num):\n",
    "          if (num%i)==0:\n",
    "              break\n",
    "      else:\n",
    "          aval.append(num)\n",
    "for i in a:\n",
    "    for j in aval:\n",
    "        if i%j==0: \n",
    "           c.append(i)\n",
    "from collections import Counter\n",
    "e=Counter(c)\n",
    "f=e.most_common(1)\n",
    "f"
   ]
  },
  {
   "cell_type": "code",
   "execution_count": 207,
   "metadata": {
    "colab": {
     "base_uri": "https://localhost:8080/"
    },
    "id": "tVr__fzXHX1_",
    "outputId": "4d5ec69e-8071-42d6-8663-a0edea6184b5"
   },
   "outputs": [
    {
     "name": "stdout",
     "output_type": "stream",
     "text": [
      "Enter your lower number: \"10\n",
      "Enter your upper number: \"500\n"
     ]
    },
    {
     "data": {
      "text/plain": [
       "[(210, 5)]"
      ]
     },
     "execution_count": 207,
     "metadata": {},
     "output_type": "execute_result"
    }
   ],
   "source": [
    "lower_num=int(input('Enter your lower number: \"'))\n",
    "upper_num=int(input('Enter your upper number: \"'))\n",
    "a=range(lower_num, upper_num)\n",
    "aval=[]\n",
    "b=max(a)\n",
    "for num in range(1,b+1):\n",
    "      for i in range(2,num):\n",
    "          if (num%i)==0:\n",
    "              break\n",
    "      else:\n",
    "          aval.append(num)\n",
    "c=[]\n",
    "for i in a:\n",
    "    for j in aval:\n",
    "        if i%j==0: \n",
    "           c.append(i)\n",
    "from collections import Counter\n",
    "e=Counter(c)\n",
    "f=e.most_common(1)\n",
    "f\n"
   ]
  },
  {
   "cell_type": "code",
   "execution_count": 208,
   "metadata": {
    "id": "XBXwJVUh5cOb"
   },
   "outputs": [],
   "source": []
  },
  {
   "cell_type": "code",
   "execution_count": 208,
   "metadata": {
    "id": "7Mhp2EIe6FmG"
   },
   "outputs": [],
   "source": []
  },
  {
   "cell_type": "code",
   "execution_count": 208,
   "metadata": {
    "id": "AsGjW2Nc6iqL"
   },
   "outputs": [],
   "source": []
  },
  {
   "cell_type": "code",
   "execution_count": null,
   "metadata": {
    "id": "pvLJSM3x6-xC"
   },
   "outputs": [],
   "source": []
  }
 ],
 "metadata": {
  "colab": {
   "collapsed_sections": [],
   "name": "Untitled7.ipynb",
   "provenance": []
  },
  "kernelspec": {
   "display_name": "Python 3 (ipykernel)",
   "language": "python",
   "name": "python3"
  },
  "language_info": {
   "codemirror_mode": {
    "name": "ipython",
    "version": 3
   },
   "file_extension": ".py",
   "mimetype": "text/x-python",
   "name": "python",
   "nbconvert_exporter": "python",
   "pygments_lexer": "ipython3",
   "version": "3.8.10"
  }
 },
 "nbformat": 4,
 "nbformat_minor": 1
}
